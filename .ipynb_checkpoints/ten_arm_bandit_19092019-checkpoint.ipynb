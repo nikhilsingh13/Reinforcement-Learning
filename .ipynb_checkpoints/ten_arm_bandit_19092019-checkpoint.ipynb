{
 "cells": [
  {
   "cell_type": "markdown",
   "metadata": {},
   "source": [
    "#### Date: September 19, 2019\n",
    "#### Filename: ten_arm_bandit_19092019.ipynb\n",
    "#### Author: Nikhil Singh\n",
    "#### Topic: 10-arm bandit problem\n",
    "#### Algorithms: greedy, ep-greedy, UCB\n",
    "#### Details: comparative study of above mentioned algorithms on 10-armed bandit problem\n",
    "#### Language: python 3"
   ]
  },
  {
   "cell_type": "code",
   "execution_count": 2,
   "metadata": {},
   "outputs": [],
   "source": [
    "# Initializing Libraries\n",
    "import numpy as np\n",
    "import matplotlib.pyplot as plt\n",
    "\n",
    "%matplotlib notebook\n",
    "# %matplotlib inline"
   ]
  },
  {
   "cell_type": "code",
   "execution_count": 3,
   "metadata": {},
   "outputs": [],
   "source": [
    "# Initializing relevant variables\n",
    "k=10                                      # number of arms\n",
    "t=1000                                    # time steps in a single run\n",
    "runs=2000                                 # independent runs, each with a different bandit problem\n",
    "epsilon=[0,0.1,0.01]                      # small probability for exploring instead of exploting directly"
   ]
  },
  {
   "cell_type": "code",
   "execution_count": 4,
   "metadata": {},
   "outputs": [],
   "source": [
    "# Initializing algorithm pre-assumtions\n",
    "q_true = np.random.normal(0,1,(runs,k))\n",
    "a_max = np.argmax(q_true, 1)"
   ]
  },
  {
   "cell_type": "code",
   "execution_count": null,
   "metadata": {},
   "outputs": [],
   "source": [
    "def calculate_reward(epsilon_val):\n",
    "    Q = np.zeros((runs,k))                # reward matrix     - runs X arms\n",
    "    N = np.ones((runs,k))                 # arm-pull matrix   - runs X arms\n",
    "    \n",
    "    # for every single timestamp in every single run, a reward will be received and also arm-pull matrix needs to be updated.\n",
    "    \n",
    "    Qi = np.random.normal(q_true,1)       # intial pulling of arm - first level probability assumption for all the pulls\n",
    "    \n",
    "    # reward collected as per the epsilon value provided\n",
    "    R_epsilon = []\n",
    "    R_epsilon.append(0)\n",
    "    R_epsilon.append(np.mean(Qi))\n",
    "    \n",
    "    # \n",
    "    R_epsilon_opted=[]\n",
    "    \n",
    "    for arm_pull in range(2,t+1):\n",
    "        pull_reward=[]\n",
    "        optimal_arm=0\n",
    "        \n",
    "        for i in range(runs):\n",
    "            if np.random.random_sample()<epsilon[epsilon_val]:\n",
    "                j=np.random.randint(k)      # select which arm\n",
    "            else:\n",
    "                j=np.argmax(Q[i])           # here it doesn't matter about epsilon as all we care about is exploitation.\n",
    "            \n",
    "            if j==max_reward_arm:           # checking whether what we got in previous action is actually an optimal one or not.\n",
    "                optimal_arm=optimal_arm+1   # base counter\n",
    "                \n",
    "            temp_reward = np.random.normal(q_true[i][j],1)   # selecting the reward finally\n",
    "            pull_reward.append(temp_reward)                  # appending the reward in a list for the entire run\n",
    "            \n",
    "            # updating Q(a)\n",
    "            N[i][j]=N[i][j]+1\n",
    "            Q[i][j]=Q[i][j]+(temp_reward-Q[i][j])/N[i][j]\n",
    "            \n",
    "        \n",
    "        \n",
    "            "
   ]
  },
  {
   "cell_type": "code",
   "execution_count": 30,
   "metadata": {},
   "outputs": [
    {
     "data": {
      "text/plain": [
       "2.0270176375168707"
      ]
     },
     "execution_count": 30,
     "metadata": {},
     "output_type": "execute_result"
    }
   ],
   "source": [
    "np.random.normal(q_true[11][9],1)"
   ]
  },
  {
   "cell_type": "code",
   "execution_count": null,
   "metadata": {},
   "outputs": [],
   "source": []
  }
 ],
 "metadata": {
  "kernelspec": {
   "display_name": "Python 3",
   "language": "python",
   "name": "python3"
  },
  "language_info": {
   "codemirror_mode": {
    "name": "ipython",
    "version": 3
   },
   "file_extension": ".py",
   "mimetype": "text/x-python",
   "name": "python",
   "nbconvert_exporter": "python",
   "pygments_lexer": "ipython3",
   "version": "3.6.7"
  }
 },
 "nbformat": 4,
 "nbformat_minor": 2
}
